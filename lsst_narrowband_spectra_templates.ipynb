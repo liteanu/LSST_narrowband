{
 "cells": [
  {
   "cell_type": "code",
   "execution_count": 1,
   "metadata": {},
   "outputs": [],
   "source": [
    "%matplotlib inline\n",
    "import numpy as np\n",
    "import matplotlib.pylab as plt\n",
    "import astropy.io.fits as fits\n",
    "\n",
    "import glob\n",
    "\n",
    "# Holy shit it worked.\n",
    "\n",
    "from lsst.sims.photUtils import Sed, Bandpass\n",
    "import os"
   ]
  },
  {
   "cell_type": "code",
   "execution_count": 2,
   "metadata": {},
   "outputs": [],
   "source": [
    "# Grab the current directory\n",
    "cwd = os.getcwd()\n",
    "# just one dir to start\n",
    "directory = os.path.join(cwd, 'ckm05')\n",
    "filepath = glob.glob(os.path.join(directory,'*.fits'))"
   ]
  },
  {
   "cell_type": "code",
   "execution_count": 3,
   "metadata": {},
   "outputs": [],
   "source": [
    "# \n",
    "hdul = fits.open(filepath[-11])\n",
    "# The header says what the \n",
    "header = hdul[0].header.copy()\n",
    "spec_table = hdul[1].data.copy()\n",
    "hdul.close()"
   ]
  },
  {
   "cell_type": "code",
   "execution_count": 4,
   "metadata": {},
   "outputs": [
    {
     "data": {
      "text/plain": [
       "SIMPLE  =                    T / Fits standard                                  \n",
       "BITPIX  =                   16 / Bits per pixel                                 \n",
       "NAXIS   =                    0 / Number of axes                                 \n",
       "EXTEND  =                    T / File may contain extensions                    \n",
       "DATE    = '2007-01-09T16:25:07' / Date FITS file was generated                  \n",
       "IRAF-TLM= '11:25:19 (09/01/2007)' / Time of last modification                   \n",
       "COMMENT   FITS (Flexible Image Transport System) format is defined in 'Astronomy\n",
       "COMMENT   and Astrophysics', volume 376, page 359; bibcode: 2001A&A...376..359H \n",
       "ORIGIN  = 'STScI-STSDAS/TABLES' / Tables version 2002-02-22                     \n",
       "FILENAME= 'ckm05_7250.fits'    / name of file                                   \n",
       "NEXTEND =                    1 / number of extensions in file                   \n",
       "TEFF    =                 7250                                                  \n",
       "LOG_Z   =                 -0.5                                                  \n",
       "HISTORY   File created by F.R.Boffi                                             \n",
       "HISTORY   ATLAS9 model atmospheres by Castelli and Kurucz (2004).               \n",
       "HISTORY   Wavelength is in Angstrom.                                            \n",
       "HISTORY   Fluxes tabulated in units of erg/s/cm^2/A                             \n",
       "HISTORY   (after converting original units into \"flam\",                         \n",
       "HISTORY   as described in README file and the SYNPHOT manual)                   \n",
       "HISTORY   and are surface fluxes. To transform to observed                      \n",
       "HISTORY   fluxes multiply by (R/D)^2 where R is the                             \n",
       "HISTORY   radius of the star and D the distance.                                \n",
       "HISTORY   Each column in the table represents the                               \n",
       "HISTORY   spectrum of a star for the same metallicity                           \n",
       "HISTORY   and effective temperature but different gravity.                      \n",
       "HISTORY   Gravities range from log_g = +0.0 (g00 in the column                  \n",
       "HISTORY   header) to log_g = +5.0 (g50 in the column header).                   \n",
       "                                                                                \n",
       "                                                                                \n",
       "                                                                                \n",
       "                                                                                \n",
       "                                                                                \n",
       "                                                                                \n",
       "                                                                                \n",
       "                                                                                "
      ]
     },
     "execution_count": 4,
     "metadata": {},
     "output_type": "execute_result"
    }
   ],
   "source": [
    "header"
   ]
  },
  {
   "cell_type": "code",
   "execution_count": 5,
   "metadata": {},
   "outputs": [
    {
     "data": {
      "text/plain": [
       "(1000, 10000)"
      ]
     },
     "execution_count": 5,
     "metadata": {},
     "output_type": "execute_result"
    },
    {
     "data": {
      "image/png": "[encoded data removed]",
      "text/plain": [
       "<matplotlib.figure.Figure at 0x110e0d4a8>"
      ]
     },
     "metadata": {},
     "output_type": "display_data"
    }
   ],
   "source": [
    "# Let's see what a few of them look like\n",
    "plt.plot(spec_table['WAVELENGTH'], spec_table['g15'], alpha=0.5)\n",
    "plt.plot(spec_table['WAVELENGTH'], spec_table['g05'], alpha=.5)\n",
    "# Always always keep track of units!\n",
    "plt.xlabel('Wavelenth (angstroms)')\n",
    "plt.ylabel('Flux (erg/s/cm^2/A)')\n",
    "plt.xlim([1000,10000])"
   ]
  },
  {
   "cell_type": "code",
   "execution_count": 6,
   "metadata": {},
   "outputs": [],
   "source": [
    "# OK, those look like stellar spectra I can believe in."
   ]
  },
  {
   "cell_type": "code",
   "execution_count": null,
   "metadata": {},
   "outputs": [],
   "source": []
  },
  {
   "cell_type": "code",
   "execution_count": 7,
   "metadata": {},
   "outputs": [],
   "source": [
    "# LSST standard is nm rather than Ang. I think I did this right.\n",
    "my_sed = Sed(wavelen=spec_table['WAVELENGTH']/10., flambda=spec_table['g15']*10)"
   ]
  },
  {
   "cell_type": "code",
   "execution_count": 8,
   "metadata": {},
   "outputs": [],
   "source": [
    "# now to read in an LSST bandpass \n",
    "band_dir = os.getenv(\"LSST_THROUGHPUTS_BASELINE\")\n",
    "filterlist =['u', 'g', 'r', 'i', 'z','y']\n",
    "bps = []\n",
    "for filtername in filterlist:\n",
    "    tempB = Bandpass()\n",
    "    tempB.readThroughput(os.path.join(band_dir, 'filter_'+filtername+'.dat'))\n",
    "    bps.append(tempB)\n"
   ]
  },
  {
   "cell_type": "code",
   "execution_count": 9,
   "metadata": {},
   "outputs": [
    {
     "data": {
      "text/plain": [
       "[<lsst.sims.photUtils.Bandpass.Bandpass at 0x11413ba58>,\n",
       " <lsst.sims.photUtils.Bandpass.Bandpass at 0x11413b7b8>,\n",
       " <lsst.sims.photUtils.Bandpass.Bandpass at 0x11413bdd8>,\n",
       " <lsst.sims.photUtils.Bandpass.Bandpass at 0x11414bba8>,\n",
       " <lsst.sims.photUtils.Bandpass.Bandpass at 0x11414b9b0>,\n",
       " <lsst.sims.photUtils.Bandpass.Bandpass at 0x114151ba8>]"
      ]
     },
     "execution_count": 9,
     "metadata": {},
     "output_type": "execute_result"
    }
   ],
   "source": [
    "bps"
   ]
  },
  {
   "cell_type": "code",
   "execution_count": 10,
   "metadata": {},
   "outputs": [
    {
     "data": {
      "text/plain": [
       "<matplotlib.text.Text at 0x1142105c0>"
      ]
     },
     "execution_count": 10,
     "metadata": {},
     "output_type": "execute_result"
    },
    {
     "data": {
      "image/png": "[encoded data removed]",
      "text/plain": [
       "<matplotlib.figure.Figure at 0x1141a16d8>"
      ]
     },
     "metadata": {},
     "output_type": "display_data"
    }
   ],
   "source": [
    "# Let's plot a few bandpass objects to make sure they look right\n",
    "for bp in bps:\n",
    "    plt.plot(bp.wavelen, bp.sb)\n",
    "    \n",
    "plt.xlabel('Wavelength (nm)')\n",
    "plt.ylabel('sb (?)')"
   ]
  },
  {
   "cell_type": "code",
   "execution_count": 11,
   "metadata": {},
   "outputs": [
    {
     "name": "stdout",
     "output_type": "stream",
     "text": [
      "u -38.363286414\n",
      "g -39.5932780266\n",
      "r -39.5241955821\n",
      "i -39.4106749041\n",
      "z -39.3887605585\n",
      "y -39.3510774412\n"
     ]
    }
   ],
   "source": [
    "for filtername,bp in zip(filterlist, bps):\n",
    "    print(filtername, my_sed.calcMag(bp))"
   ]
  },
  {
   "cell_type": "code",
   "execution_count": 12,
   "metadata": {},
   "outputs": [],
   "source": [
    "# OK, that looks scary (because the sun only has an apparent mag of -27), but we never said \n",
    "#what distance the stars are at. So we can just add a constant to all the mags and it's fine.\n"
   ]
  },
  {
   "cell_type": "markdown",
   "metadata": {},
   "source": [
    "Some good next steps:\n",
    "* grab the narrow band filter throughputs from that survey, and figure out how to read them into bandpass objects\n",
    "* Once we have all the filters and the stellar spectra, time to build a giant array! Each row would have star Teff, logg, metallicity, and then magnitudes in each LSST filter and narrowband filter. Can save the whole thing as a numpy zip file for easy reloading"
   ]
  },
  {
   "cell_type": "code",
   "execution_count": null,
   "metadata": {},
   "outputs": [],
   "source": []
  },
  {
   "cell_type": "code",
   "execution_count": null,
   "metadata": {},
   "outputs": [],
   "source": []
  },
  {
   "cell_type": "code",
   "execution_count": null,
   "metadata": {},
   "outputs": [],
   "source": []
  },
  {
   "cell_type": "code",
   "execution_count": null,
   "metadata": {},
   "outputs": [],
   "source": []
  },
  {
   "cell_type": "code",
   "execution_count": null,
   "metadata": {},
   "outputs": [],
   "source": []
  }
 ],
 "metadata": {
  "kernelspec": {
   "display_name": "Python 3",
   "language": "python",
   "name": "python3"
  },
  "language_info": {
   "codemirror_mode": {
    "name": "ipython",
    "version": 3
   },
   "file_extension": ".py",
   "mimetype": "text/x-python",
   "name": "python",
   "nbconvert_exporter": "python",
   "pygments_lexer": "ipython3",
   "version": "3.6.2"
  }
 },
 "nbformat": 4,
 "nbformat_minor": 2
}
