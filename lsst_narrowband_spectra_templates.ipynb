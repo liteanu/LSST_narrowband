{
 "cells": [
  {
   "cell_type": "code",
   "execution_count": 57,
   "metadata": {},
   "outputs": [],
   "source": [
    "import numpy as np\n",
    "\n",
    "import astropy.io.fits as fits\n",
    "\n",
    "import glob"
   ]
  },
  {
   "cell_type": "code",
   "execution_count": 58,
   "metadata": {},
   "outputs": [],
   "source": [
    "dir = './fits_files/ck04models/ckm05/'\n",
    "filepath = glob.glob(dir+'*.fits')"
   ]
  },
  {
   "cell_type": "code",
   "execution_count": 59,
   "metadata": {},
   "outputs": [],
   "source": [
    "for filename in filepath:\n",
    "    spectra_data = fits.getdata(filename)"
   ]
  },
  {
   "cell_type": "code",
   "execution_count": 60,
   "metadata": {},
   "outputs": [],
   "source": [
    "# Progress!\n",
    "for filename in filepath:\n",
    "    spectrum = fits.open(filename)"
   ]
  },
  {
   "cell_type": "code",
   "execution_count": 61,
   "metadata": {},
   "outputs": [
    {
     "name": "stdout",
     "output_type": "stream",
     "text": [
      "Traceback (most recent call last):\r\n",
      "  File \"./stack/miniconda3-4.3.21-10a4fa6/DarwinX86/sims_photUtils/2.5.0.sims/python/lsst/sims/photUtils/Sed.py\", line 98, in <module>\r\n",
      "    from .PhysicalParameters import PhysicalParameters\r\n",
      "ModuleNotFoundError: No module named '__main__.PhysicalParameters'; '__main__' is not a package\r\n"
     ]
    }
   ],
   "source": [
    "!python ./stack/miniconda3-4.3.21-10a4fa6/DarwinX86/sims_photUtils/2.5.0.sims/python/lsst/sims/photUtils/Sed.py"
   ]
  },
  {
   "cell_type": "code",
   "execution_count": null,
   "metadata": {},
   "outputs": [],
   "source": []
  }
 ],
 "metadata": {
  "kernelspec": {
   "display_name": "Python 3",
   "language": "python",
   "name": "python3"
  },
  "language_info": {
   "codemirror_mode": {
    "name": "ipython",
    "version": 3
   },
   "file_extension": ".py",
   "mimetype": "text/x-python",
   "name": "python",
   "nbconvert_exporter": "python",
   "pygments_lexer": "ipython3",
   "version": "3.6.4"
  }
 },
 "nbformat": 4,
 "nbformat_minor": 2
}
